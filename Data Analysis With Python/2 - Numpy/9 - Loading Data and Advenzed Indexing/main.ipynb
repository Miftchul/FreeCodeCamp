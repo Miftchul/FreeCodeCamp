{
 "cells": [
  {
   "cell_type": "code",
   "execution_count": 3,
   "id": "26327607",
   "metadata": {},
   "outputs": [
    {
     "name": "stdout",
     "output_type": "stream",
     "text": [
      "[29. 32. 45. 15.  5. 22.]\n"
     ]
    }
   ],
   "source": [
    "import numpy as np\n",
    "# Read the data from the file 'data.txt'\n",
    "filedata = np.genfromtxt('data.txt', delimiter=',')\n",
    "output = filedata[filedata < 50]\n",
    "\n",
    "print(output)"
   ]
  }
 ],
 "metadata": {
  "kernelspec": {
   "display_name": "Python 3",
   "language": "python",
   "name": "python3"
  },
  "language_info": {
   "codemirror_mode": {
    "name": "ipython",
    "version": 3
   },
   "file_extension": ".py",
   "mimetype": "text/x-python",
   "name": "python",
   "nbconvert_exporter": "python",
   "pygments_lexer": "ipython3",
   "version": "3.12.8"
  }
 },
 "nbformat": 4,
 "nbformat_minor": 5
}
