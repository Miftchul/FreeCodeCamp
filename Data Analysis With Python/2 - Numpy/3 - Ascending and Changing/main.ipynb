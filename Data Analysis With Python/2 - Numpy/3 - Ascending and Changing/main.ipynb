{
 "cells": [
  {
   "cell_type": "code",
   "execution_count": 7,
   "id": "df9c7587",
   "metadata": {},
   "outputs": [
    {
     "name": "stdout",
     "output_type": "stream",
     "text": [
      "[[ 1  2 20  4  5]\n",
      " [ 6  7 20  9 10]]\n"
     ]
    }
   ],
   "source": [
    "import numpy as np\n",
    "\n",
    "# Membuat array awal\n",
    "a = np.array([[1, 2, 3, 4, 5], \n",
    "              [6, 7, 8, 9, 10]])\n",
    "\n",
    "# Mengubah semua nilai di kolom ke-3 (indeks 2) menjadi 20\n",
    "a[:, 2] = 20\n",
    "\n",
    "# Mencetak hasilnya\n",
    "print(a)"
   ]
  }
 ],
 "metadata": {
  "kernelspec": {
   "display_name": "Python 3",
   "language": "python",
   "name": "python3"
  },
  "language_info": {
   "codemirror_mode": {
    "name": "ipython",
    "version": 3
   },
   "file_extension": ".py",
   "mimetype": "text/x-python",
   "name": "python",
   "nbconvert_exporter": "python",
   "pygments_lexer": "ipython3",
   "version": "3.12.8"
  }
 },
 "nbformat": 4,
 "nbformat_minor": 5
}
