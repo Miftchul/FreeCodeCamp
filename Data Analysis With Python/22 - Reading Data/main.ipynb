{
 "cells": [
  {
   "cell_type": "code",
   "execution_count": 2,
   "id": "928ec5f3",
   "metadata": {},
   "outputs": [
    {
     "ename": "NameError",
     "evalue": "name '__A__' is not defined",
     "output_type": "error",
     "traceback": [
      "\u001b[1;31m---------------------------------------------------------------------------\u001b[0m",
      "\u001b[1;31mNameError\u001b[0m                                 Traceback (most recent call last)",
      "Cell \u001b[1;32mIn[2], line 3\u001b[0m\n\u001b[0;32m      1\u001b[0m \u001b[38;5;28;01mimport\u001b[39;00m\u001b[38;5;250m \u001b[39m\u001b[38;5;21;01mcsv\u001b[39;00m\n\u001b[1;32m----> 3\u001b[0m \u001b[38;5;28;01mwith\u001b[39;00m \u001b[38;5;28mopen\u001b[39m(\u001b[43m__A__\u001b[49m, \u001b[38;5;124m'\u001b[39m\u001b[38;5;124mr\u001b[39m\u001b[38;5;124m'\u001b[39m) \u001b[38;5;28;01mas\u001b[39;00m fp:\n\u001b[0;32m      4\u001b[0m     reader \u001b[38;5;241m=\u001b[39m csv\u001b[38;5;241m.\u001b[39mreader(fp, delimiter\u001b[38;5;241m=\u001b[39m__B__)\n\u001b[0;32m      5\u001b[0m     \u001b[38;5;28mnext\u001b[39m(reader)\n",
      "\u001b[1;31mNameError\u001b[0m: name '__A__' is not defined"
     ]
    }
   ],
   "source": [
    "import csv\n",
    "\n",
    "with open(__A__, 'r') as fp:\n",
    "    reader = csv.reader(fp, delimiter=__B__)\n",
    "    next(reader)\n",
    "    for index, values in enumerate(reader):\n",
    "        name, certs_num, months_num = values\n",
    "        print(f\"{name} earned {__C__} certificates in {months_num} months\")"
   ]
  }
 ],
 "metadata": {
  "kernelspec": {
   "display_name": "Python 3",
   "language": "python",
   "name": "python3"
  },
  "language_info": {
   "codemirror_mode": {
    "name": "ipython",
    "version": 3
   },
   "file_extension": ".py",
   "mimetype": "text/x-python",
   "name": "python",
   "nbconvert_exporter": "python",
   "pygments_lexer": "ipython3",
   "version": "3.12.8"
  }
 },
 "nbformat": 4,
 "nbformat_minor": 5
}
